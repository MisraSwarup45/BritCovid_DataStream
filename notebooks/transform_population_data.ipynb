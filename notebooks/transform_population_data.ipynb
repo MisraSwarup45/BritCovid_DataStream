{
 "cells": [
  {
   "cell_type": "markdown",
   "metadata": {
    "application/vnd.databricks.v1+cell": {
     "cellMetadata": {
      "byteLimit": 2048000,
      "rowLimit": 10000
     },
     "inputWidgets": {},
     "nuid": "49f452aa-fbea-4ac8-a83b-63384d76d391",
     "showTitle": false,
     "title": ""
    }
   },
   "source": [
    "## Transform Population By Age data by performing the transformations below\n",
    "####-----------------------------------------------------------------------\n",
    "1. Split the country code & age group\n",
    "2. Exclude all data other than 2019\n",
    "3. Remove non numeric data from percentage\n",
    "4. Pivot the data by age group\n",
    "5. Join to dim_country to get the country, 3 digit country code and the total population.\n",
    "\n",
    "####-----------------------------------------------------------------------"
   ]
  },
  {
   "cell_type": "markdown",
   "metadata": {
    "application/vnd.databricks.v1+cell": {
     "cellMetadata": {
      "byteLimit": 2048000,
      "rowLimit": 10000
     },
     "inputWidgets": {},
     "nuid": "0f527ff4-468b-4f78-8dee-c098bbc29da1",
     "showTitle": false,
     "title": ""
    }
   },
   "source": [
    "### Replace **storage account name** with your storage account name before executing. "
   ]
  },
  {
   "cell_type": "code",
   "execution_count": 0,
   "metadata": {
    "application/vnd.databricks.v1+cell": {
     "cellMetadata": {
      "byteLimit": 2048000,
      "rowLimit": 10000
     },
     "inputWidgets": {},
     "nuid": "2db114ad-dcfe-4b66-9e6f-ad49d08cf954",
     "showTitle": false,
     "title": ""
    }
   },
   "outputs": [],
   "source": [
    "from pyspark.sql.functions import *"
   ]
  },
  {
   "cell_type": "markdown",
   "metadata": {
    "application/vnd.databricks.v1+cell": {
     "cellMetadata": {
      "byteLimit": 2048000,
      "rowLimit": 10000
     },
     "inputWidgets": {},
     "nuid": "53c7d9d3-afb8-4907-91d8-b239d2683146",
     "showTitle": false,
     "title": ""
    }
   },
   "source": [
    "### Read the population data & create a temp view"
   ]
  },
  {
   "cell_type": "code",
   "execution_count": 0,
   "metadata": {
    "application/vnd.databricks.v1+cell": {
     "cellMetadata": {
      "byteLimit": 2048000,
      "rowLimit": 10000
     },
     "inputWidgets": {},
     "nuid": "95ea1b8f-2198-483a-afd3-77559a04efb3",
     "showTitle": false,
     "title": ""
    }
   },
   "outputs": [],
   "source": [
    "df_raw_population = spark.read.csv(\"/mnt/covid19eureportingdl/raw/population\", sep=r'\\t', header=True)\n",
    "df_raw_population = df_raw_population.withColumn('age_group', regexp_replace(split(df_raw_population['indic_de,geo\\\\time'], ',')[0], 'PC_', '')).withColumn('country_code', split(df_raw_population['indic_de,geo\\\\time'], ',')[1])\n",
    "df_raw_population = df_raw_population.select(col(\"country_code\").alias(\"country_code\"),\n",
    "                                             col(\"age_group\").alias(\"age_group\"),\n",
    "                                             col(\"2019 \").alias(\"percentage_2019\"))\n",
    "df_raw_population.createOrReplaceTempView(\"raw_population\")"
   ]
  },
  {
   "cell_type": "markdown",
   "metadata": {
    "application/vnd.databricks.v1+cell": {
     "cellMetadata": {
      "byteLimit": 2048000,
      "rowLimit": 10000
     },
     "inputWidgets": {},
     "nuid": "1d858fce-98ef-4913-95ce-0eea3e06f1d9",
     "showTitle": false,
     "title": ""
    }
   },
   "source": [
    "### Pivot the data by age group"
   ]
  },
  {
   "cell_type": "code",
   "execution_count": 0,
   "metadata": {
    "application/vnd.databricks.v1+cell": {
     "cellMetadata": {
      "byteLimit": 2048000,
      "rowLimit": 10000
     },
     "inputWidgets": {},
     "nuid": "75e49f98-18d8-425e-a9fe-3306d30196ba",
     "showTitle": false,
     "title": ""
    }
   },
   "outputs": [],
   "source": [
    "# Create a data frame with pivoted percentages\n",
    "df_raw_population_pivot = spark.sql(\"SELECT country_code, age_group, cast(regexp_replace(percentage_2019, '[a-z]', '') AS decimal(4,2)) AS percentage_2019 FROM raw_population WHERE length(country_code) = 2\").groupBy(\"country_code\").pivot(\"age_group\").sum(\"percentage_2019\").orderBy(\"country_code\")\n",
    "df_raw_population_pivot.createOrReplaceTempView(\"raw_population_pivot\")"
   ]
  },
  {
   "cell_type": "markdown",
   "metadata": {
    "application/vnd.databricks.v1+cell": {
     "cellMetadata": {
      "byteLimit": 2048000,
      "rowLimit": 10000
     },
     "inputWidgets": {},
     "nuid": "29441010-63b6-442c-842c-4bfa5f0fec4b",
     "showTitle": false,
     "title": ""
    }
   },
   "source": [
    "### Read the country lookup"
   ]
  },
  {
   "cell_type": "code",
   "execution_count": 0,
   "metadata": {
    "application/vnd.databricks.v1+cell": {
     "cellMetadata": {
      "byteLimit": 2048000,
      "rowLimit": 10000
     },
     "inputWidgets": {},
     "nuid": "11a9ebfb-090b-444f-a8e8-ba44745015af",
     "showTitle": false,
     "title": ""
    }
   },
   "outputs": [],
   "source": [
    "# Create a data frame for the country lookup\n",
    "df_dim_country = spark.read.csv(\"/mnt/covid19eureportingdl/lookup/country_lookup\", sep=r',', header=True)\n",
    "df_dim_country.createOrReplaceTempView(\"dim_country\")"
   ]
  },
  {
   "cell_type": "markdown",
   "metadata": {
    "application/vnd.databricks.v1+cell": {
     "cellMetadata": {
      "byteLimit": 2048000,
      "rowLimit": 10000
     },
     "inputWidgets": {},
     "nuid": "91e80b85-e736-4cd0-88aa-f5f089066048",
     "showTitle": false,
     "title": ""
    }
   },
   "source": [
    "### Join population data with country lookup"
   ]
  },
  {
   "cell_type": "code",
   "execution_count": 0,
   "metadata": {
    "application/vnd.databricks.v1+cell": {
     "cellMetadata": {
      "byteLimit": 2048000,
      "rowLimit": 10000
     },
     "inputWidgets": {},
     "nuid": "027ba676-e2aa-4aef-91df-cddfd4885ff0",
     "showTitle": false,
     "title": ""
    }
   },
   "outputs": [],
   "source": [
    "df_processed_population = spark.sql(\"\"\"SELECT c.country,\n",
    "       c.country_code_2_digit,\n",
    "       c.country_code_3_digit,\n",
    "       c.population,\n",
    "       p.Y0_14  AS age_group_0_14,\n",
    "       p.Y15_24 AS age_group_15_24,\n",
    "       p.Y25_49 AS age_group_25_49,\n",
    "       p.Y50_64 AS age_group_50_64, \n",
    "       p.Y65_79 AS age_group_65_79,\n",
    "       p.Y80_MAX AS age_group_80_max\n",
    "  FROM raw_population_pivot p\n",
    "  JOIN dim_country c ON p.country_code = country_code_2_digit\n",
    " ORDER BY country\"\"\")"
   ]
  },
  {
   "cell_type": "markdown",
   "metadata": {
    "application/vnd.databricks.v1+cell": {
     "cellMetadata": {
      "byteLimit": 2048000,
      "rowLimit": 10000
     },
     "inputWidgets": {},
     "nuid": "dbf0b08a-1cd2-4eb4-944d-a1d8c61a74db",
     "showTitle": false,
     "title": ""
    }
   },
   "source": [
    "### Write output to the processed mount point"
   ]
  },
  {
   "cell_type": "code",
   "execution_count": 0,
   "metadata": {
    "application/vnd.databricks.v1+cell": {
     "cellMetadata": {
      "byteLimit": 2048000,
      "rowLimit": 10000
     },
     "inputWidgets": {},
     "nuid": "5bb3dcdd-cc8a-4229-b5f8-d3bfc76fb96d",
     "showTitle": false,
     "title": ""
    }
   },
   "outputs": [],
   "source": [
    "df_processed_population.write.format(\"com.databricks.spark.csv\").option(\"header\",\"true\").option(\"delimiter\", \",\").mode(\"overwrite\").save(\"/mnt/covid19eureportingdl/processed/population\")"
   ]
  },
  {
   "cell_type": "code",
   "execution_count": 0,
   "metadata": {
    "application/vnd.databricks.v1+cell": {
     "cellMetadata": {
      "byteLimit": 2048000,
      "rowLimit": 10000
     },
     "inputWidgets": {},
     "nuid": "93567816-7b85-4a45-aa51-af3de30f8e15",
     "showTitle": false,
     "title": ""
    }
   },
   "outputs": [],
   "source": []
  }
 ],
 "metadata": {
  "application/vnd.databricks.v1+notebook": {
   "dashboards": [],
   "environmentMetadata": null,
   "language": "python",
   "notebookMetadata": {
    "pythonIndentUnit": 4
   },
   "notebookName": "transform_population_data",
   "widgets": {}
  }
 },
 "nbformat": 4,
 "nbformat_minor": 0
}
